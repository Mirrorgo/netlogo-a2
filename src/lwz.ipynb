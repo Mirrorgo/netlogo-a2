{
 "cells": [
  {
   "cell_type": "markdown",
   "metadata": {},
   "source": [
    "- cops\n",
    "  - initial-cop-density * .01 * count patches\n",
    "  - round == 四舍五入?\n",
    "- agents\n",
    "  - initial-agent-density * .01 * count patches"
   ]
  },
  {
   "cell_type": "code",
   "execution_count": null,
   "metadata": {},
   "outputs": [],
   "source": [
    "class Agent:\n",
    "    def __init__(self, agent_id, type, vision, risk_aversion=None, hardship=None):\n",
    "        self.agent_id = agent_id\n",
    "        self.type = type\n",
    "        self.vision = vision\n",
    "        self.risk_aversion = risk_aversion\n",
    "        # R, fixed for the agent's lifetime, ranging from 0-1 (inclusive)\n",
    "        self.hardship = hardship\n",
    "        self.active = False\n",
    "        self.jail_term = 0\n",
    "        # how many turns in jail remain? (if 0, the agent is not in jail)\n",
    "        self.position = (None, None)\n",
    "\n",
    "    def __repr__(self):\n",
    "        return f\"{self.type}{self.agent_id}\""
   ]
  },
  {
   "cell_type": "markdown",
   "metadata": {},
   "source": [
    "关于v1的疑惑\n",
    "- 用type区分了类型,那为什么还要声明Agent类?\n",
    "\n",
    "证明\n",
    "- 一个可能的方案\n",
    "  - 把所有random的变成固定的？"
   ]
  }
 ],
 "metadata": {
  "kernelspec": {
   "display_name": "netlogo",
   "language": "python",
   "name": "python3"
  },
  "language_info": {
   "name": "python",
   "version": "3.12.3"
  }
 },
 "nbformat": 4,
 "nbformat_minor": 2
}
