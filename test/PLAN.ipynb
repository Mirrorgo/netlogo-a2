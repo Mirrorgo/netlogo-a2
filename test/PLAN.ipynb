{
 "cells": [
  {
   "cell_type": "markdown",
   "metadata": {},
   "source": [
    "# 测试数据组\n",
    "```\n",
    "AGENT_DENSITY = 70\n",
    "COP_DENSITY = 3\n",
    "VISION = 7\n",
    "K = 2.3\n",
    "GOV_LEGITIMACY = 0.76\n",
    "MAX_JAIL_TERM = 30\n",
    "```\n",
    "\n",
    "- v2\n",
    "  - 这个的py版本active和quiet差不多\n",
    "  - netlogo的active明显比quiet多👇\n",
    "- v3\n",
    "  - 差异巨大,py直接跑出直线了\n",
    "```\n",
    "AGENT_DENSITY = 70\n",
    "COP_DENSITY = 3\n",
    "VISION = 7\n",
    "K = 2.3\n",
    "GOV_LEGITIMACY = 0.3\n",
    "MAX_JAIL_TERM = 30\n",
    "```\n",
    "\n",
    "\n",
    "- v2\n",
    "  - 差异巨大👇\n",
    "- \n",
    "```\n",
    "AGENT_DENSITY = 70\n",
    "COP_DENSITY = 10\n",
    "VISION = 7\n",
    "K = 2.3\n",
    "GOV_LEGITIMACY = 0.3\n",
    "MAX_JAIL_TERM = 30\n",
    "```"
   ]
  }
 ],
 "metadata": {
  "language_info": {
   "name": "python"
  }
 },
 "nbformat": 4,
 "nbformat_minor": 2
}
